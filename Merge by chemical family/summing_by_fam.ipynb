{
 "cells": [
  {
   "cell_type": "code",
   "execution_count": null,
   "metadata": {},
   "outputs": [],
   "source": [
    "# transpose normalized peak list so can match the feature ID as rows"
   ]
  },
  {
   "cell_type": "code",
   "execution_count": 1,
   "metadata": {},
   "outputs": [
    {
     "data": {
      "text/html": [
       "<style>\n",
       ".list-inline {list-style: none; margin:0; padding: 0}\n",
       ".list-inline>li {display: inline-block}\n",
       ".list-inline>li:not(:last-child)::after {content: \"\\00b7\"; padding: 0 .5ex}\n",
       "</style>\n",
       "<ol class=list-inline><li>396</li><li>13135</li></ol>\n"
      ],
      "text/latex": [
       "\\begin{enumerate*}\n",
       "\\item 396\n",
       "\\item 13135\n",
       "\\end{enumerate*}\n"
      ],
      "text/markdown": [
       "1. 396\n",
       "2. 13135\n",
       "\n",
       "\n"
      ],
      "text/plain": [
       "[1]   396 13135"
      ]
     },
     "metadata": {},
     "output_type": "display_data"
    }
   ],
   "source": [
    "norm<-read.csv('norm_to_merge.csv')\n",
    "dim(norm)"
   ]
  },
  {
   "cell_type": "code",
   "execution_count": 2,
   "metadata": {},
   "outputs": [
    {
     "data": {
      "text/html": [
       "<style>\n",
       ".list-inline {list-style: none; margin:0; padding: 0}\n",
       ".list-inline>li {display: inline-block}\n",
       ".list-inline>li:not(:last-child)::after {content: \"\\00b7\"; padding: 0 .5ex}\n",
       "</style>\n",
       "<ol class=list-inline><li>13135</li><li>396</li></ol>\n"
      ],
      "text/latex": [
       "\\begin{enumerate*}\n",
       "\\item 13135\n",
       "\\item 396\n",
       "\\end{enumerate*}\n"
      ],
      "text/markdown": [
       "1. 13135\n",
       "2. 396\n",
       "\n",
       "\n"
      ],
      "text/plain": [
       "[1] 13135   396"
      ]
     },
     "metadata": {},
     "output_type": "display_data"
    }
   ],
   "source": [
    "t_norm<-t(norm)\n",
    "dim(t_norm)"
   ]
  },
  {
   "cell_type": "code",
   "execution_count": 3,
   "metadata": {},
   "outputs": [],
   "source": [
    "write.table(t_norm,'t_norm.csv',sep=\",\",row.names=T, col.names=F)"
   ]
  },
  {
   "cell_type": "code",
   "execution_count": null,
   "metadata": {},
   "outputs": [],
   "source": [
    "# adding back the row-id so can add componentindex and cluster index from table exported from cytoscape \n",
    "# combining the feature id (in normalized peak list) with cluster index and componentindex"
   ]
  },
  {
   "cell_type": "code",
   "execution_count": 4,
   "metadata": {},
   "outputs": [
    {
     "data": {
      "text/html": [
       "<style>\n",
       ".list-inline {list-style: none; margin:0; padding: 0}\n",
       ".list-inline>li {display: inline-block}\n",
       ".list-inline>li:not(:last-child)::after {content: \"\\00b7\"; padding: 0 .5ex}\n",
       "</style>\n",
       "<ol class=list-inline><li>12040</li><li>3</li></ol>\n"
      ],
      "text/latex": [
       "\\begin{enumerate*}\n",
       "\\item 12040\n",
       "\\item 3\n",
       "\\end{enumerate*}\n"
      ],
      "text/markdown": [
       "1. 12040\n",
       "2. 3\n",
       "\n",
       "\n"
      ],
      "text/plain": [
       "[1] 12040     3"
      ]
     },
     "metadata": {},
     "output_type": "display_data"
    },
    {
     "data": {
      "text/html": [
       "<style>\n",
       ".list-inline {list-style: none; margin:0; padding: 0}\n",
       ".list-inline>li {display: inline-block}\n",
       ".list-inline>li:not(:last-child)::after {content: \"\\00b7\"; padding: 0 .5ex}\n",
       "</style>\n",
       "<ol class=list-inline><li>14240</li><li>5</li></ol>\n"
      ],
      "text/latex": [
       "\\begin{enumerate*}\n",
       "\\item 14240\n",
       "\\item 5\n",
       "\\end{enumerate*}\n"
      ],
      "text/markdown": [
       "1. 14240\n",
       "2. 5\n",
       "\n",
       "\n"
      ],
      "text/plain": [
       "[1] 14240     5"
      ]
     },
     "metadata": {},
     "output_type": "display_data"
    }
   ],
   "source": [
    "id<-read.csv('id_to_merge.csv')\n",
    "dim(id)\n",
    "feature_id<-read.csv('Feature_ID_MERGE.csv')\n",
    "dim(feature_id)"
   ]
  },
  {
   "cell_type": "code",
   "execution_count": 5,
   "metadata": {},
   "outputs": [
    {
     "data": {
      "text/html": [
       "<style>\n",
       ".list-inline {list-style: none; margin:0; padding: 0}\n",
       ".list-inline>li {display: inline-block}\n",
       ".list-inline>li:not(:last-child)::after {content: \"\\00b7\"; padding: 0 .5ex}\n",
       "</style>\n",
       "<ol class=list-inline><li>12040</li><li>7</li></ol>\n"
      ],
      "text/latex": [
       "\\begin{enumerate*}\n",
       "\\item 12040\n",
       "\\item 7\n",
       "\\end{enumerate*}\n"
      ],
      "text/markdown": [
       "1. 12040\n",
       "2. 7\n",
       "\n",
       "\n"
      ],
      "text/plain": [
       "[1] 12040     7"
      ]
     },
     "metadata": {},
     "output_type": "display_data"
    }
   ],
   "source": [
    "merge<-merge(id,feature_id,by=\"merge1\")\n",
    "dim(merge)"
   ]
  },
  {
   "cell_type": "code",
   "execution_count": 6,
   "metadata": {},
   "outputs": [],
   "source": [
    "write.table(merge,'merge1.csv',sep=\",\",row.names=F, col.names=T)"
   ]
  },
  {
   "cell_type": "code",
   "execution_count": null,
   "metadata": {},
   "outputs": [],
   "source": [
    "# t_norm.csv was too large to upload to github, but was created by earlier step"
   ]
  },
  {
   "cell_type": "code",
   "execution_count": 7,
   "metadata": {},
   "outputs": [
    {
     "data": {
      "text/html": [
       "<style>\n",
       ".list-inline {list-style: none; margin:0; padding: 0}\n",
       ".list-inline>li {display: inline-block}\n",
       ".list-inline>li:not(:last-child)::after {content: \"\\00b7\"; padding: 0 .5ex}\n",
       "</style>\n",
       "<ol class=list-inline><li>13134</li><li>397</li></ol>\n"
      ],
      "text/latex": [
       "\\begin{enumerate*}\n",
       "\\item 13134\n",
       "\\item 397\n",
       "\\end{enumerate*}\n"
      ],
      "text/markdown": [
       "1. 13134\n",
       "2. 397\n",
       "\n",
       "\n"
      ],
      "text/plain": [
       "[1] 13134   397"
      ]
     },
     "metadata": {},
     "output_type": "display_data"
    },
    {
     "data": {
      "text/html": [
       "<style>\n",
       ".list-inline {list-style: none; margin:0; padding: 0}\n",
       ".list-inline>li {display: inline-block}\n",
       ".list-inline>li:not(:last-child)::after {content: \"\\00b7\"; padding: 0 .5ex}\n",
       "</style>\n",
       "<ol class=list-inline><li>12040</li><li>7</li></ol>\n"
      ],
      "text/latex": [
       "\\begin{enumerate*}\n",
       "\\item 12040\n",
       "\\item 7\n",
       "\\end{enumerate*}\n"
      ],
      "text/markdown": [
       "1. 12040\n",
       "2. 7\n",
       "\n",
       "\n"
      ],
      "text/plain": [
       "[1] 12040     7"
      ]
     },
     "metadata": {},
     "output_type": "display_data"
    }
   ],
   "source": [
    "norm<-read.csv('t_norm.csv')\n",
    "dim(norm)\n",
    "ids<-read.csv('merge1.csv')\n",
    "dim(ids)"
   ]
  },
  {
   "cell_type": "code",
   "execution_count": 8,
   "metadata": {},
   "outputs": [
    {
     "data": {
      "text/html": [
       "<style>\n",
       ".list-inline {list-style: none; margin:0; padding: 0}\n",
       ".list-inline>li {display: inline-block}\n",
       ".list-inline>li:not(:last-child)::after {content: \"\\00b7\"; padding: 0 .5ex}\n",
       "</style>\n",
       "<ol class=list-inline><li>10991</li><li>403</li></ol>\n"
      ],
      "text/latex": [
       "\\begin{enumerate*}\n",
       "\\item 10991\n",
       "\\item 403\n",
       "\\end{enumerate*}\n"
      ],
      "text/markdown": [
       "1. 10991\n",
       "2. 403\n",
       "\n",
       "\n"
      ],
      "text/plain": [
       "[1] 10991   403"
      ]
     },
     "metadata": {},
     "output_type": "display_data"
    }
   ],
   "source": [
    "merge2<-merge(ids,norm,by='merge')\n",
    "dim(merge2)"
   ]
  },
  {
   "cell_type": "code",
   "execution_count": 9,
   "metadata": {},
   "outputs": [],
   "source": [
    "write.table(merge2,'merge2.csv',sep=',',row.names=F, col.names=T)"
   ]
  },
  {
   "cell_type": "code",
   "execution_count": 10,
   "metadata": {},
   "outputs": [],
   "source": [
    "library(plyr)"
   ]
  },
  {
   "cell_type": "code",
   "execution_count": 11,
   "metadata": {},
   "outputs": [
    {
     "data": {
      "text/html": [
       "<style>\n",
       ".list-inline {list-style: none; margin:0; padding: 0}\n",
       ".list-inline>li {display: inline-block}\n",
       ".list-inline>li:not(:last-child)::after {content: \"\\00b7\"; padding: 0 .5ex}\n",
       "</style>\n",
       "<ol class=list-inline><li>10991</li><li>403</li></ol>\n"
      ],
      "text/latex": [
       "\\begin{enumerate*}\n",
       "\\item 10991\n",
       "\\item 403\n",
       "\\end{enumerate*}\n"
      ],
      "text/markdown": [
       "1. 10991\n",
       "2. 403\n",
       "\n",
       "\n"
      ],
      "text/plain": [
       "[1] 10991   403"
      ]
     },
     "metadata": {},
     "output_type": "display_data"
    }
   ],
   "source": [
    "data<-read.csv('merge2.csv')\n",
    "dim(data)"
   ]
  },
  {
   "cell_type": "code",
   "execution_count": 12,
   "metadata": {},
   "outputs": [
    {
     "data": {
      "text/html": [
       "<style>\n",
       ".list-inline {list-style: none; margin:0; padding: 0}\n",
       ".list-inline>li {display: inline-block}\n",
       ".list-inline>li:not(:last-child)::after {content: \"\\00b7\"; padding: 0 .5ex}\n",
       "</style>\n",
       "<ol class=list-inline><li>1633</li><li>401</li></ol>\n"
      ],
      "text/latex": [
       "\\begin{enumerate*}\n",
       "\\item 1633\n",
       "\\item 401\n",
       "\\end{enumerate*}\n"
      ],
      "text/markdown": [
       "1. 1633\n",
       "2. 401\n",
       "\n",
       "\n"
      ],
      "text/plain": [
       "[1] 1633  401"
      ]
     },
     "metadata": {},
     "output_type": "display_data"
    }
   ],
   "source": [
    "summed<-ddply(data,'componentindex',numcolwise(sum))\n",
    "dim(summed)"
   ]
  },
  {
   "cell_type": "code",
   "execution_count": 13,
   "metadata": {},
   "outputs": [
    {
     "data": {
      "text/html": [
       "<table>\n",
       "<caption>A data.frame: 6 × 401</caption>\n",
       "<thead>\n",
       "\t<tr><th></th><th scope=col>componentindex</th><th scope=col>merge1</th><th scope=col>cluster.index</th><th scope=col>row.m.z</th><th scope=col>row.retention.time</th><th scope=col>X101.H7a</th><th scope=col>X101.H7b</th><th scope=col>X183.H4a</th><th scope=col>X183.H4b</th><th scope=col>X177.E6a</th><th scope=col>⋯</th><th scope=col>X356.B9a</th><th scope=col>X356.B9b</th><th scope=col>X359.A3a</th><th scope=col>X359.A3b</th><th scope=col>X169.E9a</th><th scope=col>X169.E9b</th><th scope=col>X175.A7a</th><th scope=col>X175.A7b</th><th scope=col>X280.B9a</th><th scope=col>X280.B9b</th></tr>\n",
       "\t<tr><th></th><th scope=col>&lt;int&gt;</th><th scope=col>&lt;int&gt;</th><th scope=col>&lt;int&gt;</th><th scope=col>&lt;dbl&gt;</th><th scope=col>&lt;dbl&gt;</th><th scope=col>&lt;dbl&gt;</th><th scope=col>&lt;dbl&gt;</th><th scope=col>&lt;dbl&gt;</th><th scope=col>&lt;dbl&gt;</th><th scope=col>&lt;dbl&gt;</th><th scope=col>⋯</th><th scope=col>&lt;dbl&gt;</th><th scope=col>&lt;dbl&gt;</th><th scope=col>&lt;dbl&gt;</th><th scope=col>&lt;dbl&gt;</th><th scope=col>&lt;dbl&gt;</th><th scope=col>&lt;dbl&gt;</th><th scope=col>&lt;dbl&gt;</th><th scope=col>&lt;dbl&gt;</th><th scope=col>&lt;dbl&gt;</th><th scope=col>&lt;dbl&gt;</th></tr>\n",
       "</thead>\n",
       "<tbody>\n",
       "\t<tr><th scope=row>1</th><td>-1</td><td>39453936</td><td>39453936</td><td>1531160.121</td><td>18056.96537</td><td>0.236555288</td><td>0.231838755</td><td>0.205253355</td><td>0.229186949</td><td>0.245214721</td><td>⋯</td><td>0.22572</td><td>0.2254429</td><td>0.198993324</td><td>0.171382073</td><td>0.180476</td><td>0.246257164</td><td>0.2001263</td><td>0.2245668</td><td>0.175667329</td><td>0.208740454</td></tr>\n",
       "\t<tr><th scope=row>2</th><td> 1</td><td>  453207</td><td>  453207</td><td>  17271.444</td><td>  175.57154</td><td>0.000111151</td><td>0.000000000</td><td>0.000473262</td><td>0.001103557</td><td>0.000000000</td><td>⋯</td><td>0.00000</td><td>0.0000000</td><td>0.000000000</td><td>0.001470614</td><td>0.000000</td><td>0.002113364</td><td>0.0000000</td><td>0.0000000</td><td>0.000000000</td><td>0.000000000</td></tr>\n",
       "\t<tr><th scope=row>3</th><td> 2</td><td>  245267</td><td>  245267</td><td>  11920.251</td><td>  100.47544</td><td>0.000000000</td><td>0.000000000</td><td>0.000000000</td><td>0.000000000</td><td>0.000000000</td><td>⋯</td><td>0.00000</td><td>0.0000000</td><td>0.000000000</td><td>0.000000000</td><td>0.000000</td><td>0.000000000</td><td>0.0000000</td><td>0.0000000</td><td>0.000000000</td><td>0.000000000</td></tr>\n",
       "\t<tr><th scope=row>4</th><td> 3</td><td>  719060</td><td>  719060</td><td>  32078.911</td><td>  355.29007</td><td>0.000421838</td><td>0.000000000</td><td>0.002062177</td><td>0.005183375</td><td>0.002811344</td><td>⋯</td><td>0.00000</td><td>0.0000000</td><td>0.006245409</td><td>0.019346742</td><td>0.000000</td><td>0.000000000</td><td>0.0000000</td><td>0.0000000</td><td>0.000765655</td><td>0.000760040</td></tr>\n",
       "\t<tr><th scope=row>5</th><td> 4</td><td>   30218</td><td>   30218</td><td>   2347.261</td><td>   16.57904</td><td>0.000000000</td><td>0.000000000</td><td>0.000000000</td><td>0.000000000</td><td>0.000000000</td><td>⋯</td><td>0.00000</td><td>0.0000000</td><td>0.000000000</td><td>0.000000000</td><td>0.000000</td><td>0.000000000</td><td>0.0000000</td><td>0.0000000</td><td>0.000000000</td><td>0.000000000</td></tr>\n",
       "\t<tr><th scope=row>6</th><td> 5</td><td>  132109</td><td>  132109</td><td>   7893.925</td><td>   63.01473</td><td>0.000556425</td><td>0.001286731</td><td>0.000575629</td><td>0.002619555</td><td>0.000108111</td><td>⋯</td><td>0.00000</td><td>0.0000000</td><td>0.000519255</td><td>0.000651427</td><td>0.000000</td><td>0.000000000</td><td>0.0000000</td><td>0.0000000</td><td>0.000812606</td><td>0.000855901</td></tr>\n",
       "</tbody>\n",
       "</table>\n"
      ],
      "text/latex": [
       "A data.frame: 6 × 401\n",
       "\\begin{tabular}{r|lllllllllllllllllllll}\n",
       "  & componentindex & merge1 & cluster.index & row.m.z & row.retention.time & X101.H7a & X101.H7b & X183.H4a & X183.H4b & X177.E6a & ⋯ & X356.B9a & X356.B9b & X359.A3a & X359.A3b & X169.E9a & X169.E9b & X175.A7a & X175.A7b & X280.B9a & X280.B9b\\\\\n",
       "  & <int> & <int> & <int> & <dbl> & <dbl> & <dbl> & <dbl> & <dbl> & <dbl> & <dbl> & ⋯ & <dbl> & <dbl> & <dbl> & <dbl> & <dbl> & <dbl> & <dbl> & <dbl> & <dbl> & <dbl>\\\\\n",
       "\\hline\n",
       "\t1 & -1 & 39453936 & 39453936 & 1531160.121 & 18056.96537 & 0.236555288 & 0.231838755 & 0.205253355 & 0.229186949 & 0.245214721 & ⋯ & 0.22572 & 0.2254429 & 0.198993324 & 0.171382073 & 0.180476 & 0.246257164 & 0.2001263 & 0.2245668 & 0.175667329 & 0.208740454\\\\\n",
       "\t2 &  1 &   453207 &   453207 &   17271.444 &   175.57154 & 0.000111151 & 0.000000000 & 0.000473262 & 0.001103557 & 0.000000000 & ⋯ & 0.00000 & 0.0000000 & 0.000000000 & 0.001470614 & 0.000000 & 0.002113364 & 0.0000000 & 0.0000000 & 0.000000000 & 0.000000000\\\\\n",
       "\t3 &  2 &   245267 &   245267 &   11920.251 &   100.47544 & 0.000000000 & 0.000000000 & 0.000000000 & 0.000000000 & 0.000000000 & ⋯ & 0.00000 & 0.0000000 & 0.000000000 & 0.000000000 & 0.000000 & 0.000000000 & 0.0000000 & 0.0000000 & 0.000000000 & 0.000000000\\\\\n",
       "\t4 &  3 &   719060 &   719060 &   32078.911 &   355.29007 & 0.000421838 & 0.000000000 & 0.002062177 & 0.005183375 & 0.002811344 & ⋯ & 0.00000 & 0.0000000 & 0.006245409 & 0.019346742 & 0.000000 & 0.000000000 & 0.0000000 & 0.0000000 & 0.000765655 & 0.000760040\\\\\n",
       "\t5 &  4 &    30218 &    30218 &    2347.261 &    16.57904 & 0.000000000 & 0.000000000 & 0.000000000 & 0.000000000 & 0.000000000 & ⋯ & 0.00000 & 0.0000000 & 0.000000000 & 0.000000000 & 0.000000 & 0.000000000 & 0.0000000 & 0.0000000 & 0.000000000 & 0.000000000\\\\\n",
       "\t6 &  5 &   132109 &   132109 &    7893.925 &    63.01473 & 0.000556425 & 0.001286731 & 0.000575629 & 0.002619555 & 0.000108111 & ⋯ & 0.00000 & 0.0000000 & 0.000519255 & 0.000651427 & 0.000000 & 0.000000000 & 0.0000000 & 0.0000000 & 0.000812606 & 0.000855901\\\\\n",
       "\\end{tabular}\n"
      ],
      "text/markdown": [
       "\n",
       "A data.frame: 6 × 401\n",
       "\n",
       "| <!--/--> | componentindex &lt;int&gt; | merge1 &lt;int&gt; | cluster.index &lt;int&gt; | row.m.z &lt;dbl&gt; | row.retention.time &lt;dbl&gt; | X101.H7a &lt;dbl&gt; | X101.H7b &lt;dbl&gt; | X183.H4a &lt;dbl&gt; | X183.H4b &lt;dbl&gt; | X177.E6a &lt;dbl&gt; | ⋯ ⋯ | X356.B9a &lt;dbl&gt; | X356.B9b &lt;dbl&gt; | X359.A3a &lt;dbl&gt; | X359.A3b &lt;dbl&gt; | X169.E9a &lt;dbl&gt; | X169.E9b &lt;dbl&gt; | X175.A7a &lt;dbl&gt; | X175.A7b &lt;dbl&gt; | X280.B9a &lt;dbl&gt; | X280.B9b &lt;dbl&gt; |\n",
       "|---|---|---|---|---|---|---|---|---|---|---|---|---|---|---|---|---|---|---|---|---|---|\n",
       "| 1 | -1 | 39453936 | 39453936 | 1531160.121 | 18056.96537 | 0.236555288 | 0.231838755 | 0.205253355 | 0.229186949 | 0.245214721 | ⋯ | 0.22572 | 0.2254429 | 0.198993324 | 0.171382073 | 0.180476 | 0.246257164 | 0.2001263 | 0.2245668 | 0.175667329 | 0.208740454 |\n",
       "| 2 |  1 |   453207 |   453207 |   17271.444 |   175.57154 | 0.000111151 | 0.000000000 | 0.000473262 | 0.001103557 | 0.000000000 | ⋯ | 0.00000 | 0.0000000 | 0.000000000 | 0.001470614 | 0.000000 | 0.002113364 | 0.0000000 | 0.0000000 | 0.000000000 | 0.000000000 |\n",
       "| 3 |  2 |   245267 |   245267 |   11920.251 |   100.47544 | 0.000000000 | 0.000000000 | 0.000000000 | 0.000000000 | 0.000000000 | ⋯ | 0.00000 | 0.0000000 | 0.000000000 | 0.000000000 | 0.000000 | 0.000000000 | 0.0000000 | 0.0000000 | 0.000000000 | 0.000000000 |\n",
       "| 4 |  3 |   719060 |   719060 |   32078.911 |   355.29007 | 0.000421838 | 0.000000000 | 0.002062177 | 0.005183375 | 0.002811344 | ⋯ | 0.00000 | 0.0000000 | 0.006245409 | 0.019346742 | 0.000000 | 0.000000000 | 0.0000000 | 0.0000000 | 0.000765655 | 0.000760040 |\n",
       "| 5 |  4 |    30218 |    30218 |    2347.261 |    16.57904 | 0.000000000 | 0.000000000 | 0.000000000 | 0.000000000 | 0.000000000 | ⋯ | 0.00000 | 0.0000000 | 0.000000000 | 0.000000000 | 0.000000 | 0.000000000 | 0.0000000 | 0.0000000 | 0.000000000 | 0.000000000 |\n",
       "| 6 |  5 |   132109 |   132109 |    7893.925 |    63.01473 | 0.000556425 | 0.001286731 | 0.000575629 | 0.002619555 | 0.000108111 | ⋯ | 0.00000 | 0.0000000 | 0.000519255 | 0.000651427 | 0.000000 | 0.000000000 | 0.0000000 | 0.0000000 | 0.000812606 | 0.000855901 |\n",
       "\n"
      ],
      "text/plain": [
       "  componentindex merge1   cluster.index row.m.z     row.retention.time\n",
       "1 -1             39453936 39453936      1531160.121 18056.96537       \n",
       "2  1               453207   453207        17271.444   175.57154       \n",
       "3  2               245267   245267        11920.251   100.47544       \n",
       "4  3               719060   719060        32078.911   355.29007       \n",
       "5  4                30218    30218         2347.261    16.57904       \n",
       "6  5               132109   132109         7893.925    63.01473       \n",
       "  X101.H7a    X101.H7b    X183.H4a    X183.H4b    X177.E6a    ⋯ X356.B9a\n",
       "1 0.236555288 0.231838755 0.205253355 0.229186949 0.245214721 ⋯ 0.22572 \n",
       "2 0.000111151 0.000000000 0.000473262 0.001103557 0.000000000 ⋯ 0.00000 \n",
       "3 0.000000000 0.000000000 0.000000000 0.000000000 0.000000000 ⋯ 0.00000 \n",
       "4 0.000421838 0.000000000 0.002062177 0.005183375 0.002811344 ⋯ 0.00000 \n",
       "5 0.000000000 0.000000000 0.000000000 0.000000000 0.000000000 ⋯ 0.00000 \n",
       "6 0.000556425 0.001286731 0.000575629 0.002619555 0.000108111 ⋯ 0.00000 \n",
       "  X356.B9b  X359.A3a    X359.A3b    X169.E9a X169.E9b    X175.A7a  X175.A7b \n",
       "1 0.2254429 0.198993324 0.171382073 0.180476 0.246257164 0.2001263 0.2245668\n",
       "2 0.0000000 0.000000000 0.001470614 0.000000 0.002113364 0.0000000 0.0000000\n",
       "3 0.0000000 0.000000000 0.000000000 0.000000 0.000000000 0.0000000 0.0000000\n",
       "4 0.0000000 0.006245409 0.019346742 0.000000 0.000000000 0.0000000 0.0000000\n",
       "5 0.0000000 0.000000000 0.000000000 0.000000 0.000000000 0.0000000 0.0000000\n",
       "6 0.0000000 0.000519255 0.000651427 0.000000 0.000000000 0.0000000 0.0000000\n",
       "  X280.B9a    X280.B9b   \n",
       "1 0.175667329 0.208740454\n",
       "2 0.000000000 0.000000000\n",
       "3 0.000000000 0.000000000\n",
       "4 0.000765655 0.000760040\n",
       "5 0.000000000 0.000000000\n",
       "6 0.000812606 0.000855901"
      ]
     },
     "metadata": {},
     "output_type": "display_data"
    }
   ],
   "source": [
    "head(summed)"
   ]
  },
  {
   "cell_type": "code",
   "execution_count": 14,
   "metadata": {},
   "outputs": [
    {
     "data": {
      "text/html": [
       "<style>\n",
       ".list-inline {list-style: none; margin:0; padding: 0}\n",
       ".list-inline>li {display: inline-block}\n",
       ".list-inline>li:not(:last-child)::after {content: \"\\00b7\"; padding: 0 .5ex}\n",
       "</style>\n",
       "<ol class=list-inline><li>401</li><li>1633</li></ol>\n"
      ],
      "text/latex": [
       "\\begin{enumerate*}\n",
       "\\item 401\n",
       "\\item 1633\n",
       "\\end{enumerate*}\n"
      ],
      "text/markdown": [
       "1. 401\n",
       "2. 1633\n",
       "\n",
       "\n"
      ],
      "text/plain": [
       "[1]  401 1633"
      ]
     },
     "metadata": {},
     "output_type": "display_data"
    }
   ],
   "source": [
    "t_summed<-t(summed)\n",
    "dim(t_summed)"
   ]
  },
  {
   "cell_type": "code",
   "execution_count": 15,
   "metadata": {},
   "outputs": [],
   "source": [
    "write.table(t_summed,'summed_by_fam.csv',sep=\",\",row.names=T,col.names=F)"
   ]
  },
  {
   "cell_type": "code",
   "execution_count": 23,
   "metadata": {},
   "outputs": [],
   "source": [
    "# Clean up by removing rows labeled merge1, cluster.index, row.m.z, row.retention.time\n",
    "# and rename componentindex merge\n",
    "# this new doc is \"summed_by_fami.csv\""
   ]
  },
  {
   "cell_type": "code",
   "execution_count": 16,
   "metadata": {},
   "outputs": [
    {
     "data": {
      "text/html": [
       "<style>\n",
       ".list-inline {list-style: none; margin:0; padding: 0}\n",
       ".list-inline>li {display: inline-block}\n",
       ".list-inline>li:not(:last-child)::after {content: \"\\00b7\"; padding: 0 .5ex}\n",
       "</style>\n",
       "<ol class=list-inline><li>396</li><li>1634</li></ol>\n"
      ],
      "text/latex": [
       "\\begin{enumerate*}\n",
       "\\item 396\n",
       "\\item 1634\n",
       "\\end{enumerate*}\n"
      ],
      "text/markdown": [
       "1. 396\n",
       "2. 1634\n",
       "\n",
       "\n"
      ],
      "text/plain": [
       "[1]  396 1634"
      ]
     },
     "metadata": {},
     "output_type": "display_data"
    }
   ],
   "source": [
    "summed<-read.csv('summed_by_fami.csv')\n",
    "dim(summed)\n",
    "#head(summed)"
   ]
  },
  {
   "cell_type": "code",
   "execution_count": null,
   "metadata": {},
   "outputs": [],
   "source": [
    "# adding metadata back on"
   ]
  },
  {
   "cell_type": "code",
   "execution_count": 17,
   "metadata": {},
   "outputs": [
    {
     "data": {
      "text/html": [
       "<style>\n",
       ".list-inline {list-style: none; margin:0; padding: 0}\n",
       ".list-inline>li {display: inline-block}\n",
       ".list-inline>li:not(:last-child)::after {content: \"\\00b7\"; padding: 0 .5ex}\n",
       "</style>\n",
       "<ol class=list-inline><li>397</li><li>13</li></ol>\n"
      ],
      "text/latex": [
       "\\begin{enumerate*}\n",
       "\\item 397\n",
       "\\item 13\n",
       "\\end{enumerate*}\n"
      ],
      "text/markdown": [
       "1. 397\n",
       "2. 13\n",
       "\n",
       "\n"
      ],
      "text/plain": [
       "[1] 397  13"
      ]
     },
     "metadata": {},
     "output_type": "display_data"
    },
    {
     "data": {
      "text/html": [
       "<style>\n",
       ".list-inline {list-style: none; margin:0; padding: 0}\n",
       ".list-inline>li {display: inline-block}\n",
       ".list-inline>li:not(:last-child)::after {content: \"\\00b7\"; padding: 0 .5ex}\n",
       "</style>\n",
       "<ol class=list-inline><li>396</li><li>1634</li></ol>\n"
      ],
      "text/latex": [
       "\\begin{enumerate*}\n",
       "\\item 396\n",
       "\\item 1634\n",
       "\\end{enumerate*}\n"
      ],
      "text/markdown": [
       "1. 396\n",
       "2. 1634\n",
       "\n",
       "\n"
      ],
      "text/plain": [
       "[1]  396 1634"
      ]
     },
     "metadata": {},
     "output_type": "display_data"
    }
   ],
   "source": [
    "meta<-read.csv('meta_merge.csv')\n",
    "dim(meta)\n",
    "summed<-read.csv('summed_by_fami.csv')\n",
    "dim(summed)"
   ]
  },
  {
   "cell_type": "code",
   "execution_count": null,
   "metadata": {},
   "outputs": [],
   "source": []
  },
  {
   "cell_type": "code",
   "execution_count": 18,
   "metadata": {},
   "outputs": [
    {
     "data": {
      "text/html": [
       "<style>\n",
       ".list-inline {list-style: none; margin:0; padding: 0}\n",
       ".list-inline>li {display: inline-block}\n",
       ".list-inline>li:not(:last-child)::after {content: \"\\00b7\"; padding: 0 .5ex}\n",
       "</style>\n",
       "<ol class=list-inline><li>396</li><li>1646</li></ol>\n"
      ],
      "text/latex": [
       "\\begin{enumerate*}\n",
       "\\item 396\n",
       "\\item 1646\n",
       "\\end{enumerate*}\n"
      ],
      "text/markdown": [
       "1. 396\n",
       "2. 1646\n",
       "\n",
       "\n"
      ],
      "text/plain": [
       "[1]  396 1646"
      ]
     },
     "metadata": {},
     "output_type": "display_data"
    }
   ],
   "source": [
    "w_meta<-merge(meta,summed,by=\"merge\")\n",
    "dim(w_meta)"
   ]
  },
  {
   "cell_type": "code",
   "execution_count": 19,
   "metadata": {},
   "outputs": [],
   "source": [
    "write.table(w_meta,'summed_with_meta.csv',sep=',',row.names=F,col.names=T)"
   ]
  },
  {
   "cell_type": "code",
   "execution_count": null,
   "metadata": {},
   "outputs": [],
   "source": []
  }
 ],
 "metadata": {
  "kernelspec": {
   "display_name": "R",
   "language": "R",
   "name": "ir"
  },
  "language_info": {
   "codemirror_mode": "r",
   "file_extension": ".r",
   "mimetype": "text/x-r-source",
   "name": "R",
   "pygments_lexer": "r",
   "version": "4.0.2"
  }
 },
 "nbformat": 4,
 "nbformat_minor": 4
}
