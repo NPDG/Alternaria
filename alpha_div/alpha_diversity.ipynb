{
 "cells": [
  {
   "cell_type": "markdown",
   "metadata": {},
   "source": [
    "# Note\n",
    "Alpha diversity was calcuated in python as described below, the resultant data was then further analyzed in R (TO_USE_richness.ipynb)"
   ]
  },
  {
   "cell_type": "code",
   "execution_count": 1,
   "metadata": {},
   "outputs": [],
   "source": [
    "import pandas as pd\n",
    "import skbio\n",
    "import skbio.diversity.alpha\n",
    "import skbio.diversity.beta\n",
    "import numpy as np"
   ]
  },
  {
   "cell_type": "code",
   "execution_count": 2,
   "metadata": {},
   "outputs": [],
   "source": [
    "#df_summedbin=pd.read_csv('summed_bin.csv')\n",
    "#transposed in R because I couldn't make it work in python.....\n",
    "\n",
    "t_data=pd.read_csv('transposed_for_alpha.csv')\n",
    "t_data.set_index('BOX_AND_CODE', inplace=True)"
   ]
  },
  {
   "cell_type": "code",
   "execution_count": 3,
   "metadata": {},
   "outputs": [],
   "source": [
    "#test=dict(df_summedbin)\n",
    "\n",
    "t_test=dict(t_data)"
   ]
  },
  {
   "cell_type": "code",
   "execution_count": 4,
   "metadata": {},
   "outputs": [],
   "source": [
    "div_dict2={}\n",
    "for ID, values in t_test.items():\n",
    "    div_dict2[ID]=skbio.diversity.alpha.observed_otus(values)\n",
    "  "
   ]
  },
  {
   "cell_type": "code",
   "execution_count": 5,
   "metadata": {},
   "outputs": [],
   "source": [
    "import csv\n",
    "with open('otu_count.csv','w') as csv_file:\n",
    "    writer=csv.writer(csv_file)\n",
    "    for key, value in div_dict2.items():\n",
    "        writer.writerow([key,value])"
   ]
  },
  {
   "cell_type": "markdown",
   "metadata": {},
   "source": [
    "## To otu_count.csv\n",
    "Add headers such that the sample ID is merge and the diveristy value is count (or similar)"
   ]
  },
  {
   "cell_type": "code",
   "execution_count": null,
   "metadata": {},
   "outputs": [],
   "source": []
  },
  {
   "cell_type": "code",
   "execution_count": null,
   "metadata": {},
   "outputs": [],
   "source": []
  }
 ],
 "metadata": {
  "kernelspec": {
   "display_name": "Python 3",
   "language": "python",
   "name": "python3"
  },
  "language_info": {
   "codemirror_mode": {
    "name": "ipython",
    "version": 3
   },
   "file_extension": ".py",
   "mimetype": "text/x-python",
   "name": "python",
   "nbconvert_exporter": "python",
   "pygments_lexer": "ipython3",
   "version": "3.7.6"
  }
 },
 "nbformat": 4,
 "nbformat_minor": 4
}
